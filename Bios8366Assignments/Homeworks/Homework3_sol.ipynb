{
 "cells": [
  {
   "cell_type": "markdown",
   "metadata": {},
   "source": [
    "Answer all questions and submit them either as an IPython notebook, LaTeX document, or Markdown document. Provide full answers for each question, including interpretation of the results. Each question is worth 25 points.\n",
    "\n",
    "This homework is due on Monday, November 30, 2015."
   ]
  },
  {
   "cell_type": "code",
   "execution_count": 1,
   "metadata": {
    "collapsed": true
   },
   "outputs": [],
   "source": [
    "%matplotlib inline"
   ]
  },
  {
   "cell_type": "markdown",
   "metadata": {},
   "source": [
    "## Question 1\n",
    "\n",
    "The `titanic.xls` spreadsheet in the `data` directory contains data regarding the passengers on the Titanic when it sank in 1912. A recent [Kaggle competition](http://www.kaggle.com/c/titanic-gettingStarted) was based on predicting survival for passengers based on the attributes in the passenger list. \n",
    "\n",
    "Use scikit-learn to build both a support vector classifier and a logistic regression model to predict survival on the Titanic. Use cross-validation to assess your models, and try to tune them to improve performance.\n",
    "\n",
    "Discuss the benefits and drawbacks of both approaches for application to such problems."
   ]
  },
  {
   "cell_type": "code",
   "execution_count": 56,
   "metadata": {
    "collapsed": false
   },
   "outputs": [],
   "source": [
    "# Write your work here\n",
    "\n",
    "import pandas as pd\n",
    "from sklearn import svm\n",
    "from sklearn.preprocessing import Imputer\n",
    "from sklearn import preprocessing\n",
    "import time\n",
    "import numpy as np"
   ]
  },
  {
   "cell_type": "code",
   "execution_count": 25,
   "metadata": {
    "collapsed": true
   },
   "outputs": [],
   "source": [
    "#Impute Missing Values\n",
    "#Note: This is not my code. It is a code for dealing with strings and numbers simultaneously from\n",
    "# http://stackoverflow.com/questions/25239958/impute-categorical-missing-values-in-scikit-learn\n",
    "\n",
    "from sklearn.base import TransformerMixin\n",
    "\n",
    "class DataFrameImputer(TransformerMixin):\n",
    "\n",
    "    def __init__(self):\n",
    "        \"\"\"Impute missing values.\n",
    "\n",
    "        Columns of dtype object are imputed with the most frequent value\n",
    "        in column.\n",
    "\n",
    "        Columns of other types are imputed with mean of column.\n",
    "\n",
    "        \"\"\"\n",
    "    def fit(self, X, y=None):\n",
    "\n",
    "        self.fill = pd.Series([X[c].value_counts().index[0]\n",
    "            if X[c].dtype == np.dtype('O') else X[c].mean() for c in X],\n",
    "            index=X.columns)\n",
    "\n",
    "        return self\n",
    "\n",
    "    def transform(self, X, y=None):\n",
    "        return X.fillna(self.fill)"
   ]
  },
  {
   "cell_type": "code",
   "execution_count": 155,
   "metadata": {
    "collapsed": true
   },
   "outputs": [],
   "source": [
    "titanic = pd.read_excel(\"../data/titanic.xls\", \"titanic\")\n",
    "# print(titanic.head())\n",
    "titanic = DataFrameImputer().fit_transform(titanic)"
   ]
  },
  {
   "cell_type": "code",
   "execution_count": 27,
   "metadata": {
    "collapsed": false
   },
   "outputs": [
    {
     "name": "stdout",
     "output_type": "stream",
     "text": [
      "['pclass' 'survived' 'name' 'sex' 'age' 'sibsp' 'parch' 'ticket' 'fare'\n",
      " 'cabin' 'embarked' 'boat' 'body']\n"
     ]
    }
   ],
   "source": [
    "newCols = titanic.columns.values\n",
    "newCols[-1] = 'home'\n",
    "titanic.columns = newCols\n",
    "homeDest = titanic.pop(\"home\")\n",
    "print(titanic.columns.values)\n",
    "\n",
    "le = preprocessing.LabelEncoder()\n",
    "le.fit(titanic.sex)\n",
    "titanic['sex'] = le.transform(titanic['sex'])\n",
    "\n",
    "le = preprocessing.LabelEncoder()\n",
    "for index, row in titanic.iterrows():\n",
    "    titanic.iloc[index].cabin = str(row.cabin).replace(\" \",\"\")\n",
    "    titanic.iloc[index,7] = str(titanic.iloc[index].ticket).replace(\" \",\"\")\n",
    "    # print(row.ticket)\n",
    "    # print(titanic.iloc[index].ticket)\n",
    "\n",
    "le.fit(titanic.cabin)\n",
    "titanic['cabin'] = le.transform(titanic['cabin'])\n",
    "\n",
    "le.fit(titanic.ticket)\n",
    "titanic['ticket'] = le.transform(titanic['ticket'])\n",
    "\n",
    "le = preprocessing.LabelEncoder()\n",
    "le.fit(titanic.embarked)\n",
    "titanic['embarked'] = le.transform(titanic['embarked'])"
   ]
  },
  {
   "cell_type": "code",
   "execution_count": 28,
   "metadata": {
    "collapsed": false
   },
   "outputs": [],
   "source": [
    "survived = titanic.pop('survived')\n",
    "y = survived.values\n",
    "x = titanic[['pclass','sex','age','sibsp','parch','fare','body']].values\n",
    "\n",
    "from sklearn.model_selection import train_test_split\n",
    "\n",
    "x_train, x_test, y_train, y_test = train_test_split(x, y, test_size=0.33, random_state=42)"
   ]
  },
  {
   "cell_type": "code",
   "execution_count": 29,
   "metadata": {
    "collapsed": false
   },
   "outputs": [
    {
     "name": "stdout",
     "output_type": "stream",
     "text": [
      "Testing c = 1\n",
      "Testing c = 10\n",
      "Testing c = 100\n",
      "Testing c = 1000\n",
      "100\n",
      "0.784532467532\n"
     ]
    },
    {
     "data": {
      "text/html": [
       "<div>\n",
       "<table border=\"1\" class=\"dataframe\">\n",
       "  <thead>\n",
       "    <tr style=\"text-align: right;\">\n",
       "      <th>Predicted</th>\n",
       "      <th>0</th>\n",
       "      <th>1</th>\n",
       "    </tr>\n",
       "    <tr>\n",
       "      <th>Actual</th>\n",
       "      <th></th>\n",
       "      <th></th>\n",
       "    </tr>\n",
       "  </thead>\n",
       "  <tbody>\n",
       "    <tr>\n",
       "      <th>0</th>\n",
       "      <td>222</td>\n",
       "      <td>32</td>\n",
       "    </tr>\n",
       "    <tr>\n",
       "      <th>1</th>\n",
       "      <td>57</td>\n",
       "      <td>121</td>\n",
       "    </tr>\n",
       "  </tbody>\n",
       "</table>\n",
       "</div>"
      ],
      "text/plain": [
       "Predicted    0    1\n",
       "Actual             \n",
       "0          222   32\n",
       "1           57  121"
      ]
     },
     "execution_count": 29,
     "metadata": {},
     "output_type": "execute_result"
    }
   ],
   "source": [
    "for row in x:\n",
    "    if np.isreal(x).all():\n",
    "        continue\n",
    "    else:\n",
    "        print(\"error in row\")\n",
    "        \n",
    "cVals = [1,10,100,1000]\n",
    "scoreBest = 0\n",
    "cBest = np.nan\n",
    "from sklearn import model_selection\n",
    "for c in cVals:\n",
    "    print(\"Testing c = \" + str(c))\n",
    "    svc = svm.SVC(kernel='linear',C=c)\n",
    "    scores = model_selection.cross_val_score(svc,x_train,y_train,cv=5)\n",
    "    score = sum(scores)/len(scores)\n",
    "    if score>scoreBest:\n",
    "        cBest = c\n",
    "        scoreBest = score\n",
    "\n",
    "print(cBest)\n",
    "print(scoreBest)\n",
    "svc = svm.SVC(kernel='linear',C=cBest).fit(x_train,y_train)\n",
    "\n",
    "predTest = svc.predict(x_test)\n",
    "\n",
    "pd.crosstab(y_test, predTest, rownames=[\"Actual\"], colnames=[\"Predicted\"])\n"
   ]
  },
  {
   "cell_type": "code",
   "execution_count": 30,
   "metadata": {
    "collapsed": false
   },
   "outputs": [
    {
     "name": "stdout",
     "output_type": "stream",
     "text": [
      "Testing c = 1\n",
      "Testing c = 10\n",
      "Testing c = 100\n",
      "Testing c = 1000\n",
      "1\n",
      "0.667006493506\n"
     ]
    },
    {
     "data": {
      "text/html": [
       "<div>\n",
       "<table border=\"1\" class=\"dataframe\">\n",
       "  <thead>\n",
       "    <tr style=\"text-align: right;\">\n",
       "      <th>Predicted</th>\n",
       "      <th>0</th>\n",
       "      <th>1</th>\n",
       "    </tr>\n",
       "    <tr>\n",
       "      <th>Actual</th>\n",
       "      <th></th>\n",
       "      <th></th>\n",
       "    </tr>\n",
       "  </thead>\n",
       "  <tbody>\n",
       "    <tr>\n",
       "      <th>0</th>\n",
       "      <td>233</td>\n",
       "      <td>21</td>\n",
       "    </tr>\n",
       "    <tr>\n",
       "      <th>1</th>\n",
       "      <td>126</td>\n",
       "      <td>52</td>\n",
       "    </tr>\n",
       "  </tbody>\n",
       "</table>\n",
       "</div>"
      ],
      "text/plain": [
       "Predicted    0   1\n",
       "Actual            \n",
       "0          233  21\n",
       "1          126  52"
      ]
     },
     "execution_count": 30,
     "metadata": {},
     "output_type": "execute_result"
    }
   ],
   "source": [
    "cVals = [1,10,100,1000]\n",
    "scoreBest = 0\n",
    "cBest = np.nan\n",
    "from sklearn import model_selection\n",
    "for c in cVals:\n",
    "    print(\"Testing c = \" + str(c))\n",
    "    svc = svm.SVC(kernel='rbf',C=c)\n",
    "    scores = model_selection.cross_val_score(svc,x_train,y_train,cv=5)\n",
    "    score = sum(scores)/len(scores)\n",
    "    if score>scoreBest:\n",
    "        cBest = c\n",
    "        scoreBest = score\n",
    "\n",
    "print(cBest)\n",
    "print(scoreBest)\n",
    "svc = svm.SVC(kernel='rbf',C=cBest).fit(x_train,y_train)\n",
    "\n",
    "predTest = svc.predict(x_test)\n",
    "\n",
    "pd.crosstab(y_test, predTest, rownames=[\"Actual\"], colnames=[\"Predicted\"])"
   ]
  },
  {
   "cell_type": "code",
   "execution_count": 31,
   "metadata": {
    "collapsed": false
   },
   "outputs": [
    {
     "name": "stdout",
     "output_type": "stream",
     "text": [
      "{'C': 0.1}\n"
     ]
    },
    {
     "data": {
      "text/html": [
       "<div>\n",
       "<table border=\"1\" class=\"dataframe\">\n",
       "  <thead>\n",
       "    <tr style=\"text-align: right;\">\n",
       "      <th>Predicted</th>\n",
       "      <th>0</th>\n",
       "      <th>1</th>\n",
       "    </tr>\n",
       "    <tr>\n",
       "      <th>Actual</th>\n",
       "      <th></th>\n",
       "      <th></th>\n",
       "    </tr>\n",
       "  </thead>\n",
       "  <tbody>\n",
       "    <tr>\n",
       "      <th>0</th>\n",
       "      <td>229</td>\n",
       "      <td>25</td>\n",
       "    </tr>\n",
       "    <tr>\n",
       "      <th>1</th>\n",
       "      <td>69</td>\n",
       "      <td>109</td>\n",
       "    </tr>\n",
       "  </tbody>\n",
       "</table>\n",
       "</div>"
      ],
      "text/plain": [
       "Predicted    0    1\n",
       "Actual             \n",
       "0          229   25\n",
       "1           69  109"
      ]
     },
     "execution_count": 31,
     "metadata": {},
     "output_type": "execute_result"
    }
   ],
   "source": [
    "#do logistic regression\n",
    "from sklearn import svm, grid_search\n",
    "from sklearn.linear_model import LogisticRegression\n",
    "from sklearn.model_selection import GridSearchCV\n",
    "\n",
    "param_grid = {'C': [1, 0.1, 0.05, 0.02, 0.01]\n",
    "            }\n",
    "clf = GridSearchCV(LogisticRegression(penalty='l2'), param_grid).fit(x_train,y_train)\n",
    "\n",
    "# best hyperparameter setting\n",
    "print(clf.best_params_)\n",
    "\n",
    "#fit best model and predict\n",
    "estimator = LogisticRegression(penalty='l2',C=clf.best_params_['C']).fit(x_train,y_train)\n",
    "predTest = estimator.predict(x_test)\n",
    "\n",
    "pd.crosstab(y_test, predTest, rownames=[\"Actual\"], colnames=[\"Predicted\"])"
   ]
  },
  {
   "cell_type": "code",
   "execution_count": 32,
   "metadata": {
    "collapsed": false
   },
   "outputs": [
    {
     "name": "stdout",
     "output_type": "stream",
     "text": [
      "{'C': 1}\n"
     ]
    },
    {
     "data": {
      "text/html": [
       "<div>\n",
       "<table border=\"1\" class=\"dataframe\">\n",
       "  <thead>\n",
       "    <tr style=\"text-align: right;\">\n",
       "      <th>Predicted</th>\n",
       "      <th>0</th>\n",
       "      <th>1</th>\n",
       "    </tr>\n",
       "    <tr>\n",
       "      <th>Actual</th>\n",
       "      <th></th>\n",
       "      <th></th>\n",
       "    </tr>\n",
       "  </thead>\n",
       "  <tbody>\n",
       "    <tr>\n",
       "      <th>0</th>\n",
       "      <td>229</td>\n",
       "      <td>25</td>\n",
       "    </tr>\n",
       "    <tr>\n",
       "      <th>1</th>\n",
       "      <td>62</td>\n",
       "      <td>116</td>\n",
       "    </tr>\n",
       "  </tbody>\n",
       "</table>\n",
       "</div>"
      ],
      "text/plain": [
       "Predicted    0    1\n",
       "Actual             \n",
       "0          229   25\n",
       "1           62  116"
      ]
     },
     "execution_count": 32,
     "metadata": {},
     "output_type": "execute_result"
    }
   ],
   "source": [
    "param_grid = {'C': [10,1, 0.1, 0.05, 0.02, 0.01]\n",
    "            }\n",
    "clf = GridSearchCV(LogisticRegression(penalty='l1'), param_grid).fit(x_train,y_train)\n",
    "\n",
    "# best hyperparameter setting\n",
    "print(clf.best_params_)\n",
    "\n",
    "#fit best model and predict\n",
    "estimator = LogisticRegression(penalty='l2',C=clf.best_params_['C']).fit(x_train,y_train)\n",
    "predTest = estimator.predict(x_test)\n",
    "\n",
    "pd.crosstab(y_test, predTest, rownames=[\"Actual\"], colnames=[\"Predicted\"])"
   ]
  },
  {
   "cell_type": "markdown",
   "metadata": {},
   "source": [
    "Based on the results that we have, both SVM and logistic regression do a good job in predicting survival based on the covariates. SVMs outperform logistic regression slightly with lesser false positives as well as false negatives. The advantage of SVM is that it can come up with decision boundaries that maximize the classification margin. Another obvious advantage of SVMs is the provision to use the \"kernel trick\". However, kernel tricks are not exclusive to SVMs and can be used for logistic regression as well. "
   ]
  },
  {
   "cell_type": "markdown",
   "metadata": {},
   "source": [
    "## Question 2\n",
    "\n",
    "The data in `prostate.data.txt` come from a study by Stamey et al. (1989), which examined the correlation between the level of prostate-specific antigen (`lpsa`) and a number of clinical measures in men who were about to receive a radical prostatectomy. The variables are log cancer volume (`lcavol`), log prostate weight (`lweight`), age, log of the amount of benign prostatic hyperplasia (`lbph`), seminal vesicle invasion (`svi`), log of capsular penetration (`lcp`), Gleason score (`gleason`), and percent of Gleason scores 4 or 5 (`pgg45`). \n",
    "\n",
    "1. Select (your choice) five competing 3-variable linear regression models, and compare them using AIC, five-fold and ten-fold cross-validation. Discuss the results.\n",
    "\n",
    "2. An alternative method for model assessment is to fit the models on a set of bootstrap samples, and then keep track of how well it predicts the original training set. If $\\hat{f}^b(x_i)$ is the predicted value at $x_i$, from the model fitted to the bth bootstrap dataset, such an estimate is:\n",
    "$$\\frac{1}{B} \\frac{1}{N} \\sum_{b=1}^B \\sum_{i=1}^N L(y_i,\\hat{f}^b(x_i)) $$\n",
    "However, because the bootstrap samples tend to contain many observations in common among the set of bootstrap samples, this estimate will tend to underestimate the true error rate. The so-called .632 estimator aleviates this bias by returning a weighted average of the training error (average loss over the training sample) and the leave-one-out (LOO) bootstrap error:\n",
    "$$\\hat{err}^{(.632)} = 0.368 \\, \\bar{err} + 0.632 \\, \\hat{err}^{(1)}$$\n",
    "where:\n",
    "$$\\bar{err} = \\frac{1}{N}\\sum_{i=1}^N L(y_i, \\hat{f}(x_i)) $$\n",
    "Repeat the assesment from part (1) using the .632 estimator, and compare the result to the other approaches."
   ]
  },
  {
   "cell_type": "code",
   "execution_count": 156,
   "metadata": {
    "collapsed": false
   },
   "outputs": [],
   "source": [
    "# Write your work here\n",
    "#read the data\n",
    "data = pd.read_table(\"../data/prostate.data.txt\")\n",
    "data.replace({'train':{'T':1,'F':0}},inplace=True)\n",
    "data.drop(data.columns[0],axis=1,inplace=True)"
   ]
  },
  {
   "cell_type": "code",
   "execution_count": 146,
   "metadata": {
    "collapsed": true
   },
   "outputs": [],
   "source": [
    "aic = lambda n,rss,numParams: n + n*np.log(2*3.14) + n*np.log(rss/n) + 2*(numParams+1)"
   ]
  },
  {
   "cell_type": "code",
   "execution_count": 147,
   "metadata": {
    "collapsed": false
   },
   "outputs": [],
   "source": [
    "#create x and y values\n",
    "y = data.pop('lpsa').values\n",
    "mask = np.ones(len(data.columns.values),dtype=bool)\n",
    "mask[-2] = 0\n",
    "XAll = data[data.columns[mask]]\n",
    "numColumns = len(XAll.columns.values)\n",
    "n = len(data.index)#size of the data\n",
    "n\n",
    "aicCurr = aic(1,1,5)"
   ]
  },
  {
   "cell_type": "code",
   "execution_count": 154,
   "metadata": {
    "collapsed": false
   },
   "outputs": [
    {
     "name": "stdout",
     "output_type": "stream",
     "text": [
      "Best Predictors by 10 Round Cross Validation are: \n",
      "['lweight' 'train' 'lcavol']\n",
      "Error in best prediction is: \n",
      "0.912725585571\n",
      "Best Predictors by 5 Round Cross Validation are: \n",
      "['lweight' 'train' 'lcavol']\n",
      "Error in best prediction is: \n",
      "0.734461018736\n",
      "Best Predictors by AIC are: \n",
      "['lweight' 'train' 'lcavol']\n",
      "Error in best prediction is: \n",
      "0.912725585571\n"
     ]
    }
   ],
   "source": [
    "selectedCovariates = np.zeros(5,dtype=object) #keep record of the performances of the covariates\n",
    "\n",
    "numCompetitors = 5\n",
    "# cvVals=10\n",
    "#check variables for the loop\n",
    "bestError10, bestIndex10, bestError5, bestIndex5, bestAIC, bestIndexAIC = 1e10,0,1e10,0,1e10,0\n",
    "predictors = []\n",
    "\n",
    "for roundPrediction in range(numCompetitors):\n",
    "    #randomly select three columns\n",
    "    choice = np.random.choice(numColumns,3,replace=False)\n",
    "    predictors.append(choice)\n",
    "    mask = np.zeros(len(data.columns.values),dtype=bool)\n",
    "    mask[choice] = 1\n",
    "\n",
    "\n",
    "    #get the selected covariates\n",
    "    xCurr = XAll[XAll.columns[mask]].values\n",
    "\n",
    "    from sklearn import linear_model, model_selection\n",
    "    reg = linear_model.LinearRegression()\n",
    "\n",
    "    #fit the object\n",
    "    error10 = (sum(abs((model_selection.cross_val_score(reg,xCurr,y,cv=10,scoring='mean_squared_error'))))/10)\n",
    "    error5 = (sum(abs((model_selection.cross_val_score(reg,xCurr,y,cv=5,scoring='mean_squared_error'))))/5)\n",
    "    #calculte AIC\n",
    "    reg.fit(xCurr,y)\n",
    "    err = (np.sum((reg.predict(xCurr)-y)**2))\n",
    "    aicCurr = aic(n,err,4)\n",
    "\n",
    "    if error10 < bestError10:\n",
    "        bestError10 = error10\n",
    "        bestIndex10 = roundPrediction\n",
    "    if error5 < bestError5:\n",
    "        bestError5 = error5\n",
    "        bestIndex5 = roundPrediction\n",
    "    if aicCurr < bestAIC:\n",
    "        bestAIC = aicCurr\n",
    "        bestIndexAIC = roundPrediction\n",
    "        \n",
    "print(\"Best Predictors by 10 Round Cross Validation are: \")\n",
    "print(XAll[XAll.columns[predictors[bestIndex10]]].columns.values)\n",
    "print(\"Error in best prediction is: \")\n",
    "print(bestError5)\n",
    "\n",
    "print(\"Best Predictors by 5 Round Cross Validation are: \")\n",
    "print(XAll[XAll.columns[predictors[bestIndex5]]].columns.values)\n",
    "print(\"Error in best prediction is: \")\n",
    "print(bestError10)\n",
    "\n",
    "print(\"Best Predictors by AIC are: \")\n",
    "print(XAll[XAll.columns[predictors[bestIndexAIC]]].columns.values)\n",
    "print(\"Error in best prediction is: \")\n",
    "print(error5)"
   ]
  },
  {
   "cell_type": "code",
   "execution_count": 143,
   "metadata": {
    "collapsed": false
   },
   "outputs": [
    {
     "name": "stdout",
     "output_type": "stream",
     "text": [
      "Best Predictors are: \n",
      "['lbph' 'lcavol' 'gleason']\n",
      "Error in best prediction is: \n",
      "0.580403800606\n"
     ]
    }
   ],
   "source": [
    "#PART 2: bootstrap sample\n",
    "from sklearn.utils import resample\n",
    "#had dropped y column. re-read. Not the best idea\n",
    "data = pd.read_table(\"../data/prostate.data.txt\")\n",
    "data.replace({'train':{'T':1,'F':0}},inplace=True)\n",
    "\n",
    "dataCopy = data.copy(deep=True)\n",
    "\n",
    "data.drop(data.columns[0],axis=1,inplace=True)\n",
    "\n",
    "\n",
    "numCompetitors = 5\n",
    "cvVals=10\n",
    "bestError, bestIndex = 1e10,0\n",
    "predictors = []\n",
    "\n",
    "bootstrapRounds = 5\n",
    "\n",
    "for roundPrediction in range(numCompetitors):\n",
    "#   print(data.columns.values)\n",
    "    choice = np.random.choice(numColumns,3,replace=False)\n",
    "    errorTraining = 0\n",
    "    errorLOO = 0\n",
    "    for roundBootStrap in range(bootstrapRounds):\n",
    "        dataCopy = data.copy(deep=True)\n",
    "        #mask to select the x covariates\n",
    "        mask = np.ones(len(data.columns.values)-1,dtype=bool)#will get rid of y variable\n",
    "        mask[-2] = 0\n",
    "\n",
    "        dataBootstrap = resample(data)\n",
    "        y = dataBootstrap.pop('lpsa').values\n",
    "        XAll = dataBootstrap[dataBootstrap.columns[mask]]\n",
    "\n",
    "        #randomly pick three convariates\n",
    "\n",
    "        predictors.append(choice)\n",
    "        #mask to select the three chosen covariates\n",
    "        mask = np.zeros(len(XAll.columns.values),dtype=bool)\n",
    "        mask[choice] = 1\n",
    "        xCurr = XAll[XAll.columns[mask]].values\n",
    "        reg.fit(xCurr,y)\n",
    "\n",
    "        #calculate mean squared error on total data\n",
    "        errorTrainingCurr = sum((reg.predict(data[data.columns[mask]].values) - dataCopy.pop('lpsa').values) ** 2)/len(data.index)\n",
    "\n",
    "        #do LOO\n",
    "        from sklearn import cross_validation\n",
    "        loo = cross_validation.LeaveOneOut(len(data.index))\n",
    "        errorLOOCurr = sum(abs(model_selection.cross_val_score(reg,xCurr,y,scoring='mean_squared_error',cv=loo,)))/len(data.index)\n",
    "        \n",
    "        errorTraining+=errorTrainingCurr\n",
    "        errorLOO+=errorLOOCurr\n",
    "        \n",
    "    totalError = 0.368*errorTraining + 0.632*errorLOO\n",
    "\n",
    "    if totalError<bestError:\n",
    "        bestError = totalError\n",
    "        bestIndex = roundPrediction\n",
    "\n",
    "        #print(data.columns.values)\n",
    "\n",
    "\n",
    "print(\"Best Predictors are: \")\n",
    "print(XAll[XAll.columns[predictors[bestIndex]]].columns.values)\n",
    "print(\"Error in best prediction is: \")\n",
    "print(bestError/5)"
   ]
  },
  {
   "cell_type": "markdown",
   "metadata": {},
   "source": [
    "We see that .632 estimator performs better than finding the best model using Cross-Validation and the AIC models. However, this result varies and of the many runs that I tried, Cross-Validation and AIC often came out on top. Standard bootstrapping, often produced a bias (though reduced the variance) but it was corrected by using the 0.632 rule."
   ]
  },
  {
   "cell_type": "markdown",
   "metadata": {},
   "source": [
    "## Question 3\n",
    "\n",
    "Fit a series of random-forest classifiers to the very low birthweight infant data (`vlbw.csv`), to explore the sensitivity to the parameter `m`, the number of variables considered for splitting at each step. Plot both the out-of-bag error as well as the test error against a suitably-chosen range of values for `m`."
   ]
  },
  {
   "cell_type": "code",
   "execution_count": 51,
   "metadata": {
    "collapsed": false
   },
   "outputs": [
    {
     "name": "stdout",
     "output_type": "stream",
     "text": [
      "['birth', 'exit', 'hospstay', 'lowph', 'pltct', 'race', 'bwt', 'gest', 'inout', 'twn', 'lol', 'magsulf', 'meth', 'toc', 'delivery', 'apg1', 'vent', 'pneumo', 'pda', 'cld', 'pvh', 'ivh', 'ipe', 'year', 'sex']\n"
     ]
    },
    {
     "data": {
      "text/plain": [
       "<matplotlib.legend.Legend at 0x10cf7bc10>"
      ]
     },
     "execution_count": 51,
     "metadata": {},
     "output_type": "execute_result"
    },
    {
     "data": {
      "image/png": "[encoded data removed]",
      "text/plain": [
       "<matplotlib.figure.Figure at 0x10bae4250>"
      ]
     },
     "metadata": {},
     "output_type": "display_data"
    }
   ],
   "source": [
    "# Write your work here\n",
    "from sklearn.ensemble import RandomForestClassifier\n",
    "import pandas as pd\n",
    "import matplotlib.pyplot as plt\n",
    "from sklearn import preprocessing\n",
    "import numpy as np\n",
    "\n",
    "from sklearn.base import TransformerMixin\n",
    "\n",
    "class DataFrameImputer(TransformerMixin):\n",
    "\n",
    "    def __init__(self):\n",
    "        \"\"\"Impute missing values.\n",
    "\n",
    "        Columns of dtype object are imputed with the most frequent value\n",
    "        in column.\n",
    "\n",
    "        Columns of other types are imputed with mean of column.\n",
    "\n",
    "        \"\"\"\n",
    "    def fit(self, X, y=None):\n",
    "\n",
    "        self.fill = pd.Series([X[c].value_counts().index[0]\n",
    "            if X[c].dtype == np.dtype('O') else X[c].mean() for c in X],\n",
    "            index=X.columns)\n",
    "\n",
    "        return self\n",
    "\n",
    "    def transform(self, X, y=None):\n",
    "        return X.fillna(self.fill)\n",
    "\n",
    "\n",
    "#read data\n",
    "data = pd.read_csv(\"../data/vlbw.csv\")\n",
    "data.drop(data.columns[0],axis=1)\n",
    "columnNames = list(data.columns.values)\n",
    "data = data.ix[:,1:len(columnNames)]\n",
    "# print(data.columns.values)\n",
    "#print(data.head())\n",
    "data = DataFrameImputer().fit_transform(data)\n",
    "\n",
    "columnNames = list(data.columns.values)\n",
    "xColumns = [col for col in columnNames if col != \"dead\"]\n",
    "print(xColumns)\n",
    "\n",
    "le = preprocessing.LabelEncoder()\n",
    "\n",
    "for column in columnNames:\n",
    "    le.fit(data[column])\n",
    "    data[column] = le.transform(data[column])\n",
    "\n",
    "\n",
    "y = data.pop(\"dead\").values\n",
    "x = data[xColumns].values\n",
    "maxEstimators = len(xColumns)\n",
    "# print(maxEstimators)\n",
    "from sklearn.model_selection import train_test_split\n",
    "\n",
    "x_train, x_test, y_train, y_test = train_test_split(x, y, test_size=0.33, random_state=42)\n",
    "\n",
    "oobErrors = []\n",
    "testErrors = []\n",
    "\n",
    "for counterEstimator in range(1,maxEstimators+1):\n",
    "    randForestClass = RandomForestClassifier(n_estimators=100,oob_score=True,max_features=counterEstimator)\n",
    "    randForestClass.fit(x_train,y_train)\n",
    "    #calculate test Error\n",
    "    yPred = randForestClass.predict(x_test)\n",
    "    #0s and 1s. Take NOT(XOR) to find non matches. \n",
    "    testResults = np.logical_not(np.logical_xor(yPred,y_test))\n",
    "    testError = (len(testResults) - np.sum(testResults))/len(testResults)\n",
    "    testErrors.append(testError)\n",
    "    #calculate OOB Error\n",
    "    oobError = 1 - randForestClass.oob_score_\n",
    "#     print(oobError)\n",
    "    oobErrors.append(oobError)\n",
    "\n",
    "plt.plot(range(maxEstimators),oobErrors,label='OOB Error')\n",
    "plt.plot(range(maxEstimators),testErrors,label='Test Error')\n",
    "plt.legend()"
   ]
  },
  {
   "cell_type": "markdown",
   "metadata": {},
   "source": [
    "We see that the OOB error is more than the Test Error. The reason for this, as mentioned in Efron and Tibshirani, (1993), is that \"the bootstrap samples used to compute the [OOB error rate] are further away on the average than a typical test sample\". Therefore the OOB error estimates are pessimistic in nature."
   ]
  },
  {
   "cell_type": "markdown",
   "metadata": {},
   "source": [
    "## Bonus: Question 4\n",
    "\n",
    "Use a grid search to optimize the number of estimators and max_depth for a Gradient Boosted Decision tree using the very low birthweight infant data. Plug this optimal ``max_depth`` into a *single* decision tree.  Does this single tree over-fit or under-fit the data? Repeat this for the Random Forest.  Construct a single decision tree using the ``max_depth`` which is optimal for the Random Forest.  Does this single tree over-fit or under-fit the data?"
   ]
  },
  {
   "cell_type": "code",
   "execution_count": 8,
   "metadata": {
    "collapsed": false
   },
   "outputs": [],
   "source": [
    "# Write your work here\n",
    "__author__ = 'ayanmukhopadhyay'\n",
    "\n",
    "from sklearn.ensemble import RandomForestClassifier\n",
    "import pandas as pd\n",
    "import matplotlib.pyplot as plt\n",
    "from sklearn import preprocessing\n",
    "import numpy as np\n",
    "\n",
    "from sklearn.base import TransformerMixin\n",
    "\n",
    "class DataFrameImputer(TransformerMixin):\n",
    "\n",
    "    def __init__(self):\n",
    "        \"\"\"Impute missing values.\n",
    "\n",
    "        Columns of dtype object are imputed with the most frequent value\n",
    "        in column.\n",
    "\n",
    "        Columns of other types are imputed with mean of column.\n",
    "\n",
    "        \"\"\"\n",
    "    def fit(self, X, y=None):\n",
    "\n",
    "        self.fill = pd.Series([X[c].value_counts().index[0]\n",
    "            if X[c].dtype == np.dtype('O') else X[c].mean() for c in X],\n",
    "            index=X.columns)\n",
    "\n",
    "        return self\n",
    "\n",
    "    def transform(self, X, y=None):\n",
    "        return X.fillna(self.fill)\n",
    "\n"
   ]
  },
  {
   "cell_type": "code",
   "execution_count": 9,
   "metadata": {
    "collapsed": true
   },
   "outputs": [],
   "source": [
    "#read data\n",
    "data = pd.read_csv(\"../data/vlbw.csv\")\n",
    "# print(data.columns.values)\n",
    "data.drop(data.columns[0],axis=1,inplace=True)\n",
    "data = DataFrameImputer().fit_transform(data)\n",
    "\n",
    "columnNames = list(data.columns.values)\n",
    "xColumns = [col for col in columnNames if col != \"dead\"]\n",
    "# print(xColumns)\n",
    "\n",
    "le = preprocessing.LabelEncoder()\n",
    "\n",
    "for column in columnNames:\n",
    "    le.fit(data[column])\n",
    "    data[column] = le.transform(data[column])\n",
    "\n",
    "from sklearn.model_selection import train_test_split\n",
    "y = data.pop(\"dead\").values\n",
    "x = data[xColumns].values\n",
    "X_train, X_test, y_train, y_test = train_test_split(x, y, test_size=0.33)\n",
    "maxEstimators = len(xColumns)\n"
   ]
  },
  {
   "cell_type": "code",
   "execution_count": 10,
   "metadata": {
    "collapsed": false
   },
   "outputs": [
    {
     "data": {
      "text/plain": [
       "{'max_depth': 3, 'n_estimators': 30}"
      ]
     },
     "execution_count": 10,
     "metadata": {},
     "output_type": "execute_result"
    }
   ],
   "source": [
    "from sklearn.model_selection import GridSearchCV\n",
    "from sklearn.ensemble import GradientBoostingClassifier\n",
    "\n",
    "param_grid = {'max_depth': list(range(1,20)),\n",
    "              'n_estimators' : [5,10,20,30]\n",
    "              }\n",
    "\n",
    "est = GradientBoostingClassifier(n_estimators=3000)\n",
    "gs_cv = GridSearchCV(est, param_grid, n_jobs=4).fit(X_train, y_train)\n",
    "\n",
    "# best hyperparameter setting\n",
    "gs_cv.best_params_"
   ]
  },
  {
   "cell_type": "code",
   "execution_count": 11,
   "metadata": {
    "collapsed": false
   },
   "outputs": [
    {
     "name": "stdout",
     "output_type": "stream",
     "text": [
      "Test Score\n",
      "0.887387387387\n",
      "Training Score\n",
      "0.86859688196\n"
     ]
    }
   ],
   "source": [
    "#now fit this max depth to a single decision tree\n",
    "from sklearn import tree\n",
    "clf = tree.DecisionTreeClassifier(criterion='entropy',max_features=\"auto\",max_depth=gs_cv.best_params_[\"max_depth\"])\n",
    "clf.fit(X_train, y_train)\n",
    "\n",
    "print(\"Test Score\")\n",
    "print(clf.score(X_test,y_test))\n",
    "print(\"Training Score\")\n",
    "print(clf.score(X_train, y_train))"
   ]
  },
  {
   "cell_type": "code",
   "execution_count": 12,
   "metadata": {
    "collapsed": false
   },
   "outputs": [
    {
     "name": "stdout",
     "output_type": "stream",
     "text": [
      "{'n_estimators': 500, 'max_depth': 9}\n",
      "Test Score\n",
      "0.887387387387\n",
      "Training Score\n",
      "0.993318485523\n"
     ]
    }
   ],
   "source": [
    "param_grid = {'max_depth': list(range(1,30)),\n",
    "#               'min_samples_leaf': [3, 5, 9, 17],\n",
    "              'n_estimators': [10,100,500,1000,2000,3000]\n",
    "              }\n",
    "from sklearn.ensemble import RandomForestClassifier\n",
    "est = RandomForestClassifier(n_estimators=3000)\n",
    "# this may take some minutes\n",
    "gs_cv = GridSearchCV(est, param_grid, n_jobs=4).fit(X_train, y_train)\n",
    "\n",
    "# best hyperparameter setting\n",
    "print(gs_cv.best_params_)\n",
    "\n",
    "#now fit this max depth to a single decision tree\n",
    "from sklearn import tree\n",
    "clf = tree.DecisionTreeClassifier(criterion='entropy',max_features=\"auto\",max_depth=gs_cv.best_params_[\"max_depth\"])\n",
    "clf.fit(X_train, y_train)\n",
    "\n",
    "print(\"Test Score\")\n",
    "print(clf.score(X_test,y_test))\n",
    "print(\"Training Score\")\n",
    "print(clf.score(X_train, y_train))"
   ]
  },
  {
   "cell_type": "markdown",
   "metadata": {},
   "source": [
    "In order to check which of the two processes \"overfit\", I checked how well the methods fit to the training data used to learn the models and the difference between the test accuracy and the training accuracy. The second method, where a random forest classifier is learnt overfits the data used. However, when used on a test set, their performances are very similar."
   ]
  }
 ],
 "metadata": {
  "kernelspec": {
   "display_name": "Python 3",
   "language": "python",
   "name": "python3"
  },
  "language_info": {
   "codemirror_mode": {
    "name": "ipython",
    "version": 3
   },
   "file_extension": ".py",
   "mimetype": "text/x-python",
   "name": "python",
   "nbconvert_exporter": "python",
   "pygments_lexer": "ipython3",
   "version": "3.3.5"
  }
 },
 "nbformat": 4,
 "nbformat_minor": 0
}
